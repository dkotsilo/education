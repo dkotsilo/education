{
 "cells": [
  {
   "cell_type": "code",
   "execution_count": 1,
   "metadata": {},
   "outputs": [],
   "source": [
    "from bs4 import BeautifulSoup\n",
    "import requests, json\n",
    "import pandas as pd\n",
    "import re\n",
    "import time\n",
    "import os\n",
    "import collections\n",
    "\n",
    "\n",
    "pd.options.mode.chained_assignment = None"
   ]
  },
  {
   "cell_type": "code",
   "execution_count": 44,
   "metadata": {},
   "outputs": [],
   "source": [
    "\n",
    "HEADERS = {\n",
    "    'Accept': '*/*',\n",
    "    'Accept-Encoding': 'gzip, deflate, br',\n",
    "    'Accept-Language': 'ru-RU,ru;q=0.8,en-US;q=0.5,en;q=0.3',\n",
    "    'Connection': 'keep-alive',\n",
    "    'Content-Length': '137',\n",
    "    'content-type': 'application/json',\n",
    "    'Cookie': '_csrf_token=1c0ed592ec162073ac34d79ce511f0e50d195f763abd8c24; autoru_sid=a%3Ag5e3b198b299o5jhpv6nlk0ro4daqbpf.fa3630dbc880ea80147c661111fb3270%7C1580931467355.604800.8HnYnADZ6dSuzP1gctE0Fw.cd59AHgDSjoJxSYHCHfDUoj-f2orbR5pKj6U0ddu1G4; autoruuid=g5e3b198b299o5jhpv6nlk0ro4daqbpf.fa3630dbc880ea80147c661111fb3270; suid=48a075680eac323f3f9ad5304157467a.bc50c5bde34519f174ccdba0bd791787; from_lifetime=1580933172327; from=yandex; X-Vertis-DC=myt; crookie=bp+bI7U7P7sm6q0mpUwAgWZrbzx3jePMKp8OPHqMwu9FdPseXCTs3bUqyAjp1fRRTDJ9Z5RZEdQLKToDLIpc7dWxb90=; cmtchd=MTU4MDkzMTQ3MjU0NQ==; yandexuid=1758388111580931457; bltsr=1; ',\n",
    "    'Host': 'auto.ru',\n",
    "    'origin': 'https://auto.ru/cars/all/',\n",
    "    'Referer': 'https://auto.ru/cars/all/',\n",
    "    'User-Agent': 'Mozilla/5.0 (Windows NT 10.0; Win64; x64; rv:72.0) Gecko/20100101 Firefox/72.0',\n",
    "    'x-client-app-version': '202002.03.092255',\n",
    "    'x-client-date': '1580933207763',\n",
    "    'x-csrf-token': '1c0ed592ec162073ac34d79ce511f0e50d195f763abd8c24',\n",
    "    'x-page-request-id': '60142cd4f0c0edf51f96fd0134c6f02a',\n",
    "    'x-requested-with': 'fetch'\n",
    "}\n",
    "url = \"https://auto.ru/-/ajax/desktop/listing/\"\n",
    "\n",
    "#url = 'https://auto.ru/-/ajax/desktop/listingSpecial/'"
   ]
  },
  {
   "cell_type": "code",
   "execution_count": 3,
   "metadata": {},
   "outputs": [
    {
     "name": "stdout",
     "output_type": "stream",
     "text": [
      "Кол-во столбцов теста: 23\n",
      "Названия столбцов теста: ['bodyType', 'brand', 'color', 'fuelType', 'modelDate', 'name', 'numberOfDoors', 'productionDate', 'vehicleConfiguration', 'vehicleTransmission', 'engineDisplacement', 'enginePower', 'description', 'mileage', 'complectation', 'lk_summary', 'steering_wheel', 'steering_wheel', 'owners_number', 'pts', 'custom_cleared', 'purchase_date', 'id']\n"
     ]
    },
    {
     "data": {
      "text/html": [
       "<div>\n",
       "<style scoped>\n",
       "    .dataframe tbody tr th:only-of-type {\n",
       "        vertical-align: middle;\n",
       "    }\n",
       "\n",
       "    .dataframe tbody tr th {\n",
       "        vertical-align: top;\n",
       "    }\n",
       "\n",
       "    .dataframe thead th {\n",
       "        text-align: right;\n",
       "    }\n",
       "</style>\n",
       "<table border=\"1\" class=\"dataframe\">\n",
       "  <thead>\n",
       "    <tr style=\"text-align: right;\">\n",
       "      <th></th>\n",
       "      <th>bodyType</th>\n",
       "      <th>brand</th>\n",
       "      <th>color</th>\n",
       "      <th>fuelType</th>\n",
       "      <th>modelDate</th>\n",
       "      <th>name</th>\n",
       "      <th>numberOfDoors</th>\n",
       "      <th>productionDate</th>\n",
       "      <th>vehicleConfiguration</th>\n",
       "      <th>vehicleTransmission</th>\n",
       "      <th>engineDisplacement</th>\n",
       "      <th>enginePower</th>\n",
       "      <th>description</th>\n",
       "      <th>mileage</th>\n",
       "      <th>complectation</th>\n",
       "      <th>lk_summary</th>\n",
       "      <th>steering_wheel</th>\n",
       "      <th>steering_wheel</th>\n",
       "      <th>owners_number</th>\n",
       "      <th>pts</th>\n",
       "      <th>custom_cleared</th>\n",
       "      <th>purchase_date</th>\n",
       "      <th>id</th>\n",
       "    </tr>\n",
       "  </thead>\n",
       "  <tbody>\n",
       "    <tr>\n",
       "      <th>0</th>\n",
       "      <td>седан</td>\n",
       "      <td>BMW</td>\n",
       "      <td>чёрный</td>\n",
       "      <td>дизель</td>\n",
       "      <td>2016.0</td>\n",
       "      <td>520d 2.0d AT (190 л.с.)</td>\n",
       "      <td>4.0</td>\n",
       "      <td>2017.0</td>\n",
       "      <td>SEDAN AUTOMATIC 2.0</td>\n",
       "      <td>автоматическая</td>\n",
       "      <td>2.0 LTR</td>\n",
       "      <td>190 N12</td>\n",
       "      <td>В РОЛЬФ Ясенево представлено более 500 автомоб...</td>\n",
       "      <td>158836.0</td>\n",
       "      <td>['[{\"name\":\"Безопасность\",\"values\":[\"Антипробу...</td>\n",
       "      <td>задний</td>\n",
       "      <td>Левый</td>\n",
       "      <td>Не требует ремонта</td>\n",
       "      <td>1 владелец</td>\n",
       "      <td>Оригинал</td>\n",
       "      <td>Растаможен</td>\n",
       "      <td>NaN</td>\n",
       "      <td>0</td>\n",
       "    </tr>\n",
       "    <tr>\n",
       "      <th>1</th>\n",
       "      <td>седан</td>\n",
       "      <td>BMW</td>\n",
       "      <td>белый</td>\n",
       "      <td>дизель</td>\n",
       "      <td>2018.0</td>\n",
       "      <td>318d 2.0d AT (150 л.с.)</td>\n",
       "      <td>4.0</td>\n",
       "      <td>2019.0</td>\n",
       "      <td>SEDAN AUTOMATIC 2.0</td>\n",
       "      <td>автоматическая</td>\n",
       "      <td>2.0 LTR</td>\n",
       "      <td>150 N12</td>\n",
       "      <td>Автомобиль из демонстрационного парка по спец ...</td>\n",
       "      <td>10.0</td>\n",
       "      <td>['[{\"name\":\"Комфорт\",\"values\":[\"Круиз-контроль...</td>\n",
       "      <td>задний</td>\n",
       "      <td>Левый</td>\n",
       "      <td>Не требует ремонта</td>\n",
       "      <td>1 владелец</td>\n",
       "      <td>Оригинал</td>\n",
       "      <td>Растаможен</td>\n",
       "      <td>NaN</td>\n",
       "      <td>1</td>\n",
       "    </tr>\n",
       "  </tbody>\n",
       "</table>\n",
       "</div>"
      ],
      "text/plain": [
       "  bodyType brand   color fuelType  modelDate                     name  \\\n",
       "0    седан   BMW  чёрный   дизель     2016.0  520d 2.0d AT (190 л.с.)   \n",
       "1    седан   BMW   белый   дизель     2018.0  318d 2.0d AT (150 л.с.)   \n",
       "\n",
       "   numberOfDoors  productionDate vehicleConfiguration vehicleTransmission  \\\n",
       "0            4.0          2017.0  SEDAN AUTOMATIC 2.0      автоматическая   \n",
       "1            4.0          2019.0  SEDAN AUTOMATIC 2.0      автоматическая   \n",
       "\n",
       "  engineDisplacement enginePower  \\\n",
       "0            2.0 LTR     190 N12   \n",
       "1            2.0 LTR     150 N12   \n",
       "\n",
       "                                         description   mileage  \\\n",
       "0  В РОЛЬФ Ясенево представлено более 500 автомоб...  158836.0   \n",
       "1  Автомобиль из демонстрационного парка по спец ...      10.0   \n",
       "\n",
       "                                       complectation lk_summary  \\\n",
       "0  ['[{\"name\":\"Безопасность\",\"values\":[\"Антипробу...     задний   \n",
       "1  ['[{\"name\":\"Комфорт\",\"values\":[\"Круиз-контроль...     задний   \n",
       "\n",
       "  steering_wheel      steering_wheel owners_number       pts custom_cleared  \\\n",
       "0          Левый  Не требует ремонта    1 владелец  Оригинал     Растаможен   \n",
       "1          Левый  Не требует ремонта    1 владелец  Оригинал     Растаможен   \n",
       "\n",
       "  purchase_date  id  \n",
       "0           NaN   0  \n",
       "1           NaN   1  "
      ]
     },
     "execution_count": 3,
     "metadata": {},
     "output_type": "execute_result"
    }
   ],
   "source": [
    "test = pd.read_csv('test.csv')\n",
    "\n",
    "bmw_test = test.rename(columns = {'Комплектация': 'complectation', 'Привод': 'lk_summary', \n",
    "                                  'Руль': 'steering_wheel', 'Состояние': 'steering_wheel',\n",
    "                                  'Владельцы': 'owners_number', 'ПТС': 'pts', \n",
    "                                  'Таможня': 'custom_cleared', 'Владение': 'purchase_date'}, inplace = False)\n",
    "# посмотрим какие столбцы нам нужны \n",
    "print('Кол-во столбцов теста:', bmw_test.shape[1])\n",
    "print('Названия столбцов теста:', list(bmw_test.columns))\n",
    "\n",
    "# вывод всех столбцов датафрейма\n",
    "pd.set_option('display.max_columns', None)\n",
    "bmw_test.head(2)"
   ]
  },
  {
   "cell_type": "code",
   "execution_count": null,
   "metadata": {},
   "outputs": [],
   "source": []
  },
  {
   "cell_type": "code",
   "execution_count": 57,
   "metadata": {},
   "outputs": [],
   "source": [
    "# но сначала установим главные параметры запроса\n",
    "mark = 'BMW'  # марка\n",
    "#model = 'M6'  # модель\n",
    "geo_radius = 300  # радиус вокруг москвы = 200 км\n",
    "geo_id = [213]  # Москва\n",
    "top_days = \"900\"  # кол-во дней от текущей даты назад за которые запрашиваем объявления \n",
    "\n",
    "\n",
    "offers = []\n",
    "for num_page in range(1, 200):\n",
    "    param = {\n",
    "        \"catalog_filter\" : [{\"mark\": mark}],\n",
    "        #\"catalog_filter\" : \"all\",\n",
    "        \"section\": \"all\",\n",
    "        \"category\": \"cars\",\n",
    "        \"sort\": \"fresh_relevance_1-desc\",\n",
    "        \"top_days\": top_days,\n",
    "        \"geo_radius\":geo_radius,\n",
    "        \"geo_id\":geo_id,\n",
    "        \"page\": num_page\n",
    "        }\n",
    "    response = requests.post(url, json=param, headers=HEADERS)\n",
    "    data = response.json()\n",
    "    offers.extend(data['offers'])\n",
    "    \n",
    "    "
   ]
  },
  {
   "cell_type": "code",
   "execution_count": 63,
   "metadata": {},
   "outputs": [
    {
     "data": {
      "text/plain": [
       "7475"
      ]
     },
     "execution_count": 63,
     "metadata": {},
     "output_type": "execute_result"
    }
   ],
   "source": [
    "len(offers)"
   ]
  },
  {
   "cell_type": "code",
   "execution_count": 65,
   "metadata": {},
   "outputs": [],
   "source": [
    "with open('bmw_json.json', 'w') as f:\n",
    "    json.dump(offers, f)\n",
    "    "
   ]
  },
  {
   "cell_type": "code",
   "execution_count": 66,
   "metadata": {},
   "outputs": [],
   "source": [
    "with open('bmw_json.json', 'r', encoding='utf8') as f:\n",
    "    bmw_json = json.load(f)"
   ]
  },
  {
   "cell_type": "code",
   "execution_count": 67,
   "metadata": {},
   "outputs": [
    {
     "data": {
      "text/plain": [
       "7475"
      ]
     },
     "execution_count": 67,
     "metadata": {},
     "output_type": "execute_result"
    }
   ],
   "source": [
    "len(bmw_json)"
   ]
  },
  {
   "cell_type": "code",
   "execution_count": 68,
   "metadata": {},
   "outputs": [],
   "source": [
    "#Let's create dictionary for our function\n",
    "dict_func = {}\n",
    "\n",
    "# создаем функцию для обработки 23 необходимых столбцов\n",
    "def parse_to_df(bmw_json, dict_func):\n",
    "    data = pd.DataFrame()\n",
    "    for offers in bmw_json:\n",
    "    \n",
    "        try: dict_func['bodyType'] = offers['vehicle_info']['configuration']['human_name']\n",
    "        except: dict_func['bodyType'] = None\n",
    "\n",
    "        try: dict_func['brand'] = offers['vehicle_info']['mark_info']['code']\n",
    "        except: dict_func['brand'] = None\n",
    "\n",
    "        try: dict_func['color'] = offers['color_hex']\n",
    "        except: dict_func['color'] = None\n",
    "\n",
    "        try: dict_func['fuelType'] = offers['lk_summary'].split()[-1]\n",
    "        except: dict_func['fuelType'] = None\n",
    "\n",
    "        try: dict_func['modelDate'] = offers['vehicle_info']['super_gen']['year_from']\n",
    "        except: dict_func['modelDate'] = None\n",
    "\n",
    "        try: dict_func['name'] =  offers['vehicle_info']['tech_param']['human_name']\n",
    "        except: dict_func['name'] = None\n",
    "\n",
    "        try: dict_func['numberOfDoors'] = offers['vehicle_info']['configuration']['doors_count']\n",
    "        except: dict_func['numberOfDoors'] = None\n",
    "\n",
    "        try: dict_func['productionDate'] = offers['documents']['year']\n",
    "        except: dict_func['productionDate'] = None\n",
    "\n",
    "        try: dict_func['vehicleTransmission'] = offers['vehicle_info']['tech_param']['transmission']\n",
    "        except: dict_func['vehicleTransmission'] = None\n",
    "\n",
    "        try: dict_func['engineDisplacement'] = offers['vehicle_info']['tech_param']['human_name'].split()[0]\n",
    "        except: dict_func['engineDisplacement'] = None\n",
    "\n",
    "        try: dict_func['vehicleConfiguration'] = offers['vehicle_info']['configuration']['body_type']+' '+d_dict['vehicleTransmission']+' '+d_dict['engineDisplacement']\n",
    "        except: dict_func['vehicleConfiguration'] = None\n",
    "\n",
    "        try: dict_func['enginePower'] = offers['vehicle_info']['tech_param']['power']\n",
    "        except: dict_func['enginePower'] = None\n",
    "\n",
    "        try: dict_func['description'] = offers['description']\n",
    "        except: dict_func['description'] = None\n",
    "\n",
    "        try: dict_func['mileage'] = offers['state']['mileage']\n",
    "        except: dict_func['mileage'] = None\n",
    "\n",
    "        try: dict_func['complectation'] = offers['vehicle_info']['complectation']\n",
    "        except: dict_func['complectation'] = None\n",
    "\n",
    "        try: dict_func['lk_summary'] = offers['lk_summary'].split(', ')[-2]\n",
    "        except: dict_func['lk_summary'] = None\n",
    "\n",
    "        try: dict_func['steering_wheel'] = offers['vehicle_info']['steering_wheel']\n",
    "        except: dict_func['steering_wheel'] = None\n",
    "\n",
    "        # 'Состояние' не найдено\n",
    "        dict_func['Condition'] = None\n",
    "\n",
    "        try: dict_func['owners_number'] = offers['documents']['owners_number']\n",
    "        except: dict_func['owners_number'] = None\n",
    "\n",
    "        try: dict_func['pts'] = offers['documents']['pts']\n",
    "        except: dict_func['pts'] = None\n",
    "\n",
    "        try: dict_func['custom_cleared'] = offers['documents']['custom_cleared']\n",
    "        except: dict_func['custom_cleared'] = None\n",
    "        \n",
    "        try: dict_func['purchase_date'] =  offers['documents']['purchase_date']\n",
    "        except: dict_func['purchase_date'] = None\n",
    "\n",
    "        try: dict_func['price'] = offers['price_info']['RUR']\n",
    "        except: dict_func['price'] = None\n",
    "\n",
    "        # дата размещения объявления решил добавить \n",
    "        try: dict_func['start_date'] =  offers['additional_info']['hot_info']['start_time']\n",
    "        except: dict_func['start_date'] = None\n",
    "\n",
    "        # статус объявления \n",
    "        try: dict_func['hidden'] =  offers['additional_info']['hidden']\n",
    "        except: dict_func['hidden'] = None\n",
    "\n",
    "        # модель \n",
    "        try: dict_func['model'] = offers['vehicle_info']['model_info']['code']\n",
    "        except: dict_func['model'] = None\n",
    "\n",
    "        data = data.append(dict_func, ignore_index=True)\n",
    "\n",
    "    return data"
   ]
  },
  {
   "cell_type": "code",
   "execution_count": 69,
   "metadata": {},
   "outputs": [
    {
     "data": {
      "text/plain": [
       "(7475, 26)"
      ]
     },
     "execution_count": 69,
     "metadata": {},
     "output_type": "execute_result"
    }
   ],
   "source": [
    "bmw_df = parse_to_df(bmw_json, dict_func)\n",
    "bmw_df.head(2)\n",
    "bmw_df.shape"
   ]
  },
  {
   "cell_type": "code",
   "execution_count": 71,
   "metadata": {},
   "outputs": [
    {
     "data": {
      "text/plain": [
       "BMW    7475\n",
       "Name: brand, dtype: int64"
      ]
     },
     "execution_count": 71,
     "metadata": {},
     "output_type": "execute_result"
    }
   ],
   "source": [
    "bmw_df['brand'].value_counts()"
   ]
  },
  {
   "cell_type": "code",
   "execution_count": 72,
   "metadata": {},
   "outputs": [],
   "source": [
    "bmw_df.to_csv('bmw_df.csv')"
   ]
  },
  {
   "cell_type": "code",
   "execution_count": null,
   "metadata": {},
   "outputs": [],
   "source": [
    "bmw_test.head(2)"
   ]
  },
  {
   "cell_type": "code",
   "execution_count": null,
   "metadata": {},
   "outputs": [],
   "source": [
    "import utils_module09092020 as utils"
   ]
  },
  {
   "cell_type": "code",
   "execution_count": null,
   "metadata": {},
   "outputs": [],
   "source": []
  }
 ],
 "metadata": {
  "kernelspec": {
   "display_name": "Python 3",
   "language": "python",
   "name": "python3"
  },
  "language_info": {
   "codemirror_mode": {
    "name": "ipython",
    "version": 3
   },
   "file_extension": ".py",
   "mimetype": "text/x-python",
   "name": "python",
   "nbconvert_exporter": "python",
   "pygments_lexer": "ipython3",
   "version": "3.7.3"
  }
 },
 "nbformat": 4,
 "nbformat_minor": 2
}
